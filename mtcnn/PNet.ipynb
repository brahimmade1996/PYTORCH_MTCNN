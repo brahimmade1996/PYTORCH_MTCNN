{
 "cells": [
  {
   "cell_type": "markdown",
   "metadata": {},
   "source": [
    "##### 定义PNet"
   ]
  },
  {
   "cell_type": "code",
   "execution_count": 6,
   "metadata": {},
   "outputs": [],
   "source": [
    "#torch package\n",
    "import os\n",
    "import torch\n",
    "import torch.nn as nn\n",
    "import torch.optim as optim\n",
    "import torch.nn.functional as F\n",
    "import torchvision\n",
    "import torchvision.transforms as transforms\n",
    "import sys\n",
    "sys.path.append('../')\n",
    "\n",
    "# add other package\n",
    "import numpy as np\n",
    "import pandas as pd\n",
    "import matplotlib.pyplot as plt\n",
    "from sklearn.metrics import confusion_matrix\n",
    "from tool.plotcm import plot_confusion_matrix\n",
    "import tool.image_tools\n",
    "\n",
    "import pdb\n",
    "\n",
    "from collections import OrderedDict\n",
    "from collections import namedtuple\n",
    "from itertools import product\n",
    "\n",
    "#torch.set_printoptions(linewidth=120)"
   ]
  },
  {
   "cell_type": "markdown",
   "metadata": {},
   "source": [
    "###### 对权重进行初始化，使用正态分布"
   ]
  },
  {
   "cell_type": "code",
   "execution_count": 7,
   "metadata": {},
   "outputs": [],
   "source": [
    "def weights_init(m):\n",
    "    if isinstance(m, nn.Conv2d) or isinstance(m, nn.Linear):\n",
    "        nn.init.xavier_uniform_(m.weight.data)\n",
    "        nn.init.constant_(m.bias, 0.1)"
   ]
  },
  {
   "cell_type": "markdown",
   "metadata": {},
   "source": [
    "##### 定义PNet网络"
   ]
  },
  {
   "cell_type": "code",
   "execution_count": 12,
   "metadata": {},
   "outputs": [],
   "source": [
    "\n",
    "#input 12*12*3\n",
    "class PNet(nn.Module):\n",
    "    def __init__(self):\n",
    "        super().__init__()\n",
    "        self.conv1 = nn.Conv2d(in_channels=3,out_channels=10,kernel_size=3)\n",
    "        self.conv2 = nn.Conv2d(in_channels=10,out_channels=16,kernel_size=3)\n",
    "        self.out = nn.Conv2d(in_channels=16,out_channels=32,kernel_size=3)\n",
    "        \n",
    "        self.det = nn.Conv2d(in_channels=32,out_channels=1,kernel_size=1)\n",
    "        self.bound = nn.Conv2d(in_channels=32,out_channels=4,kernel_size=1)\n",
    "        self.landmark = nn.Conv2d(in_channels=32,out_channels=10,kernel_size=1)\n",
    "        self.apply(weights_init)\n",
    "        pass\n",
    "    \n",
    "    def forward(self,tensor):\n",
    "        #layer input\n",
    "        input=tensor\n",
    "        #layer 1\n",
    "        t=self.conv1(input)\n",
    "        t = F.relu(t)\n",
    "        #print('pnet conv1 shape:',t.shape)\n",
    "        t=F.max_pool2d(t,kernel_size=2,stride=2)\n",
    "        #print('pnet mp1 shape:',t.shape)\n",
    "        #layer 2\n",
    "        t=self.conv2(t)\n",
    "        t = F.relu(t)\n",
    "        #print('pnet conv2 shape:',t.shape)\n",
    "        #layer 3\n",
    "        t = self.out(t)\n",
    "        #print('pnet out shape:',t.shape)\n",
    "        # t = F.relu(t)\n",
    "        #out label face 1*1*2\n",
    "        det = self.det(t)\n",
    "        label = torch.sigmoid(det)\n",
    "        #out bounding box (1*1*4)\n",
    "        bound = self.bound(t)\n",
    "        offset = F.relu(bound)\n",
    "        #landmark = self.landmark(t)\n",
    "        return label,offset\n",
    "    pass"
   ]
  },
  {
   "cell_type": "markdown",
   "metadata": {},
   "source": [
    "##### 测试PNet"
   ]
  },
  {
   "cell_type": "code",
   "execution_count": 14,
   "metadata": {},
   "outputs": [
    {
     "name": "stdout",
     "output_type": "stream",
     "text": [
      "tensor([ 0.7816,  1.7310,  0.3439, -0.6427])\n",
      "torch.Size([4, 3, 12, 12])\n",
      "b tensor([0.5679, 0.5057, 0.6006, 0.5361], grad_fn=<SqueezeBackward0>)\n",
      "a: tensor([True, True, True, True])\n",
      "c tensor([0.5679, 0.5057, 0.6006, 0.5361], grad_fn=<MaskedSelectBackward>)\n",
      "c tensor([True, True, True, True])\n"
     ]
    }
   ],
   "source": [
    "if __name__ == '__main__':\n",
    "    t = torch.rand([4,3,12,12])\n",
    "\n",
    "    label = torch.randn([4])\n",
    "\n",
    "    print(label)\n",
    "\n",
    "    print(t.shape)\n",
    "\n",
    "    pnet =PNet()\n",
    "\n",
    "    plabel,offset = pnet(t)\n",
    "\n",
    "    plabel = plabel.squeeze()\n",
    "\n",
    "    mask = torch.ge(plabel,0)\n",
    "\n",
    "    valid_gt_cls = torch.masked_select(plabel,mask)\n",
    "\n",
    "    prob_ones = torch.ge(valid_gt_cls,0.2)\n",
    "\n",
    "    print('b',plabel)\n",
    "\n",
    "    print('a:',mask)\n",
    "\n",
    "    print('c',valid_gt_cls)\n",
    "\n",
    "    print('c',prob_ones)"
   ]
  },
  {
   "cell_type": "code",
   "execution_count": null,
   "metadata": {},
   "outputs": [],
   "source": []
  }
 ],
 "metadata": {
  "kernelspec": {
   "display_name": "Python 3",
   "language": "python",
   "name": "python3"
  },
  "language_info": {
   "codemirror_mode": {
    "name": "ipython",
    "version": 3
   },
   "file_extension": ".py",
   "mimetype": "text/x-python",
   "name": "python",
   "nbconvert_exporter": "python",
   "pygments_lexer": "ipython3",
   "version": "3.7.7"
  }
 },
 "nbformat": 4,
 "nbformat_minor": 4
}
