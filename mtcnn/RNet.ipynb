{
 "cells": [
  {
   "cell_type": "markdown",
   "metadata": {},
   "source": [
    "##### 定义RNet"
   ]
  },
  {
   "cell_type": "code",
   "execution_count": 1,
   "metadata": {},
   "outputs": [],
   "source": [
    "#torch package\n",
    "import os\n",
    "import torch\n",
    "import torch.nn as nn\n",
    "import torch.optim as optim\n",
    "import torch.nn.functional as F\n",
    "import torchvision\n",
    "import torchvision.transforms as transforms\n",
    "import sys\n",
    "sys.path.append('../')\n",
    "\n",
    "# add other package\n",
    "import numpy as np\n",
    "import pandas as pd\n",
    "import matplotlib.pyplot as plt\n",
    "from sklearn.metrics import confusion_matrix\n",
    "from tool.plotcm import plot_confusion_matrix\n",
    "import tool.image_tools\n",
    "\n",
    "import pdb\n",
    "\n",
    "from collections import OrderedDict\n",
    "from collections import namedtuple\n",
    "from itertools import product\n",
    "\n",
    "\n",
    "#torch.set_printoptions(linewidth=120)"
   ]
  },
  {
   "cell_type": "code",
   "execution_count": 2,
   "metadata": {},
   "outputs": [],
   "source": [
    "def weights_init(m):\n",
    "    if isinstance(m, nn.Conv2d) or isinstance(m, nn.Linear):\n",
    "        nn.init.xavier_uniform_(m.weight.data)\n",
    "        nn.init.constant_(m.bias, 0.1)"
   ]
  },
  {
   "cell_type": "code",
   "execution_count": 3,
   "metadata": {},
   "outputs": [
    {
     "name": "stdout",
     "output_type": "stream",
     "text": [
      "a torch.Size([4, 2])\n"
     ]
    }
   ],
   "source": [
    "#input 24*24*3\n",
    "class RNet(nn.Module):\n",
    "    def __init__(self):\n",
    "        super().__init__()\n",
    "        self.conv1 = nn.Conv2d(in_channels=3,out_channels=28,kernel_size=3,  stride=1)\n",
    "        self.conv2 = nn.Conv2d(in_channels=28,out_channels=48,kernel_size=3, stride=1)\n",
    "        self.conv3 = nn.Conv2d(in_channels=48,out_channels=64,kernel_size=2, stride=1)\n",
    "        self.out = nn.Linear(in_features=3*3*64,out_features=128)\n",
    "        \n",
    "        self.det = nn.Linear(in_features=128,out_features=1)\n",
    "        self.bound = nn.Linear(in_features=128,out_features=4)\n",
    "        self.landmark = nn.Linear(in_features=128,out_features=10)\n",
    "        self.apply(weights_init)\n",
    "        pass\n",
    "    \n",
    "    def forward(self,tensor):\n",
    "        #layer input\n",
    "        input = tensor\n",
    "        #layer 1\n",
    "        t=self.conv1(input)\n",
    "        t=F.relu(t)\n",
    "        t=F.max_pool2d(t,kernel_size=2,stride=2)\n",
    "        #print('RNet conv1 shape:',t.shape)\n",
    "        #print('RNet MP1 3*3 shape:',t.shape)\n",
    "        #layer 2\n",
    "        t=self.conv2(t)\n",
    "        t=F.relu(t)\n",
    "        t=F.max_pool2d(t,kernel_size=2,stride=2)\n",
    "        #print('RNet MP2 3*3 shape: ',t.shape)\n",
    "        #layer3\n",
    "        t=self.conv3(t)\n",
    "        t=F.relu(t)\n",
    "        #print('RNet conv3 shape: ',t.shape)\n",
    "        #layer out\n",
    "        t = t.reshape(-1, 3*3*64)\n",
    "        #print('RNet out reshape: ',t.shape)\n",
    "        t=self.out(t)\n",
    "        #print('RNet out shape: ',t.shape)\n",
    "        #out label face B*2\n",
    "        det = self.det(t)\n",
    "        label = F.relu(det)\n",
    "        #print('Rnet out label shape:',label.shape)\n",
    "        #out bounding box (B*4)\n",
    "        bound = self.bound(t)\n",
    "        offset = F.relu(bound)\n",
    "        #print('Rnet out offset shape:',offset.shape)\n",
    "        #out landmark \n",
    "        #landmark = self.landmark(t)\n",
    "        #landmark = F.relu(landmark)\n",
    "        #print('Rnet out offset shape:',landmark.shape)\n",
    "        return label,offset\n",
    "    pass"
   ]
  },
  {
   "cell_type": "markdown",
   "metadata": {},
   "source": [
    "##### 测试RNet"
   ]
  },
  {
   "cell_type": "code",
   "execution_count": 4,
   "metadata": {},
   "outputs": [
    {
     "name": "stdout",
     "output_type": "stream",
     "text": [
      "a torch.Size([4, 2])\n"
     ]
    }
   ],
   "source": [
    "t=torch.randn([4,3,24,24])\n",
    "\n",
    "\n",
    "\n",
    "label=torch.randn([4])\n",
    "\n",
    "rnet=RNet()\n",
    "\n",
    "rlabel,roffset = rnet(t)\n",
    "\n",
    "\n",
    "#cm = confusion_matrix(label, rlabel.argmax(dim=1),labels=[1])\n",
    "\n",
    "\n",
    "print('a',rlabel.shape)"
   ]
  },
  {
   "cell_type": "code",
   "execution_count": null,
   "metadata": {},
   "outputs": [],
   "source": []
  }
 ],
 "metadata": {
  "kernelspec": {
   "display_name": "Python 3",
   "language": "python",
   "name": "python3"
  },
  "language_info": {
   "codemirror_mode": {
    "name": "ipython",
    "version": 3
   },
   "file_extension": ".py",
   "mimetype": "text/x-python",
   "name": "python",
   "nbconvert_exporter": "python",
   "pygments_lexer": "ipython3",
   "version": "3.7.2"
  }
 },
 "nbformat": 4,
 "nbformat_minor": 4
}
