{
 "cells": [
  {
   "cell_type": "markdown",
   "metadata": {},
   "source": [
    "#### 计算损失函数"
   ]
  },
  {
   "cell_type": "code",
   "execution_count": null,
   "metadata": {},
   "outputs": [],
   "source": [
    "#torch package\n",
    "import os\n",
    "import torch\n",
    "import torch.nn as nn\n",
    "import torch.optim as optim\n",
    "import torch.nn.functional as F\n",
    "import torchvision\n",
    "import torchvision.transforms as transforms\n",
    "import sys\n",
    "sys.path.append('../')\n",
    "\n",
    "# add other package\n",
    "import numpy as np\n",
    "import pandas as pd\n",
    "import matplotlib.pyplot as plt\n",
    "from sklearn.metrics import confusion_matrix\n",
    "from tool.plotcm import plot_confusion_matrix\n",
    "import tool.image_tools\n",
    "\n",
    "import pdb\n",
    "\n",
    "from collections import OrderedDict\n",
    "from collections import namedtuple\n",
    "from itertools import product"
   ]
  },
  {
   "cell_type": "code",
   "execution_count": null,
   "metadata": {},
   "outputs": [],
   "source": []
  },
  {
   "cell_type": "code",
   "execution_count": null,
   "metadata": {},
   "outputs": [],
   "source": [
    "class LossFn:\n",
    "    def __init__(self, cls_factor=1, box_factor=1, landmark_factor=1):\n",
    "        # loss function\n",
    "        self.cls_factor = cls_factor\n",
    "        self.box_factor = box_factor\n",
    "        self.land_factor = landmark_factor\n",
    "        self.loss_cls = nn.BCELoss() \n",
    "        # binary cross entropy\n",
    "        self.loss_box = nn.MSELoss() \n",
    "        # mean square error\n",
    "        self.loss_landmark = nn.MSELoss()\n",
    "\n",
    "\n",
    "    def cls_loss(self,gt_label,pred_label):\n",
    "        pred_label = torch.squeeze(pred_label)\n",
    "        gt_label = torch.squeeze(gt_label)\n",
    "        # get the mask element which >= 0, only 0 and 1 can effect the detection loss\n",
    "        mask = torch.ge(gt_label,0)\n",
    "        valid_gt_label = torch.masked_select(gt_label,mask)\n",
    "        valid_pred_label = torch.masked_select(pred_label,mask)\n",
    "        return self.loss_cls(valid_pred_label,valid_gt_label)*self.cls_factor\n",
    "\n",
    "\n",
    "    def box_loss(self,gt_label,gt_offset,pred_offset):\n",
    "        pred_offset = torch.squeeze(pred_offset)\n",
    "        gt_offset = torch.squeeze(gt_offset)\n",
    "        gt_label = torch.squeeze(gt_label)\n",
    "\n",
    "        #get the mask element which != 0\n",
    "        unmask = torch.eq(gt_label,0)\n",
    "        mask = torch.eq(unmask,0)\n",
    "        #convert mask to dim index\n",
    "        chose_index = torch.nonzero(mask.data)\n",
    "        chose_index = torch.squeeze(chose_index)\n",
    "        #only valid element can effect the loss\n",
    "        valid_gt_offset = gt_offset[chose_index,:]\n",
    "        valid_pred_offset = pred_offset[chose_index,:]\n",
    "        return self.loss_box(valid_pred_offset,valid_gt_offset)*self.box_factor"
   ]
  }
 ],
 "metadata": {
  "kernelspec": {
   "display_name": "Python 3",
   "language": "python",
   "name": "python3"
  },
  "language_info": {
   "codemirror_mode": {
    "name": "ipython",
    "version": 3
   },
   "file_extension": ".py",
   "mimetype": "text/x-python",
   "name": "python",
   "nbconvert_exporter": "python",
   "pygments_lexer": "ipython3",
   "version": "3.7.2"
  }
 },
 "nbformat": 4,
 "nbformat_minor": 4
}
