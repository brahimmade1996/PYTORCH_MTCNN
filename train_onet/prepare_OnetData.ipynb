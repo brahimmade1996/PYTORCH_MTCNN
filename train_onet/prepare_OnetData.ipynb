{
 "cells": [
  {
   "cell_type": "code",
   "execution_count": null,
   "metadata": {},
   "outputs": [],
   "source": []
  },
  {
   "cell_type": "code",
   "execution_count": 4,
   "metadata": {},
   "outputs": [],
   "source": [
    "import argparse\n",
    "import cv2\n",
    "import numpy as np\n",
    "import os\n",
    "import sys\n",
    "sys.path.append('../')\n",
    "#from mtcnn.core.detect import MtcnnDetector,create_mtcnn_net\n",
    "from tool.imagedb import ImageDB\n",
    "from tool.imagedb import TestImageLoader\n",
    "from tool.utils import IoU\n",
    "import time\n",
    "from six.moves import cPickle\n",
    "from mtcnn import PNet\n",
    "from mtcnn import RNet\n",
    "from mtcnn import detect"
   ]
  },
  {
   "cell_type": "markdown",
   "metadata": {},
   "source": [
    "#### Generate train data of ONet"
   ]
  },
  {
   "cell_type": "code",
   "execution_count": 5,
   "metadata": {},
   "outputs": [],
   "source": [
    "def gen_onet_data(data_dir, anno_file, pnet_model_file, rnet_model_file, prefix_path='', use_cuda=True, vis=False):\n",
    "\n",
    "    #pnet, rnet, _ = create_mtcnn_net(p_model_path=pnet_model_file, r_model_path=rnet_model_file, use_cuda=use_cuda)\n",
    "    \n",
    "    #mtcnn_detector = MtcnnDetector(pnet=pnet, rnet=rnet, min_face_size=12)\n",
    "    \n",
    "    pnet = detect.create_mtcnn_pnet(p_model_path=pnet_model_file)\n",
    "    \n",
    "    pnet_detect = detect.PNetDetector(pnet)\n",
    "    \n",
    "    rnet = detect.create_mtcnn_rnet(r_model_path=rnet_model_file)\n",
    "    \n",
    "    rnet_detect = detect.RNetDetector(rnet)\n",
    "    \n",
    "\n",
    "    imagedb = ImageDB(anno_file,mode=\"test\",prefix_path=prefix_path)\n",
    "    imdb = imagedb.load_imdb()\n",
    "    image_reader = TestImageLoader(imdb,1,False)\n",
    "\n",
    "    all_boxes = list()\n",
    "    \n",
    "    batch_idx = 0\n",
    "    print('size:%d' % image_reader.size)\n",
    "    \n",
    "    for databatch in image_reader:\n",
    "        if batch_idx % 50 == 0:\n",
    "            print(\"%d images done\" % batch_idx)\n",
    "            \n",
    "        im = databatch\n",
    "        t = time.time()\n",
    "        # pnet detection = [x1, y1, x2, y2, score, reg]\n",
    "        p_boxes, p_boxes_align = mtcnn_detector.detect_pnet(im=im)\n",
    "        # rnet detection\n",
    "        boxes, boxes_align = mtcnn_detector.detect_rnet(im=im, dets=p_boxes_align)\n",
    "\n",
    "        if boxes_align is None:\n",
    "            all_boxes.append(np.array([]))\n",
    "            batch_idx += 1\n",
    "            continue\n",
    "        if vis:\n",
    "            rgb_im = cv2.cvtColor(np.asarray(im), cv2.COLOR_BGR2RGB)\n",
    "            vision.vis_two(rgb_im, boxes, boxes_align)\n",
    "\n",
    "        t1 = time.time() - t\n",
    "        t = time.time()\n",
    "        all_boxes.append(boxes_align)\n",
    "        batch_idx += 1\n",
    "\n",
    "    save_path = '../image/48'\n",
    "\n",
    "    if not os.path.exists(save_path):\n",
    "        os.mkdir(save_path)\n",
    "\n",
    "    save_file = os.path.join(save_path, \"detections_%d.pkl\" % int(time.time()))\n",
    "    with open(save_file, 'wb') as f:\n",
    "        cPickle.dump(all_boxes, f, cPickle.HIGHEST_PROTOCOL)\n",
    "    gen_onet_sample_data(data_dir,anno_file,save_file,prefix_path)"
   ]
  },
  {
   "cell_type": "markdown",
   "metadata": {},
   "source": [
    "#### Define a Path of model of PNet and RNet"
   ]
  },
  {
   "cell_type": "code",
   "execution_count": 6,
   "metadata": {},
   "outputs": [
    {
     "ename": "FileNotFoundError",
     "evalue": "[Errno 2] No such file or directory: '../model/Rnet/rnet_epoch_9.pt'",
     "output_type": "error",
     "traceback": [
      "\u001b[0;31m---------------------------------------------------------------------------\u001b[0m",
      "\u001b[0;31mFileNotFoundError\u001b[0m                         Traceback (most recent call last)",
      "\u001b[0;32m<ipython-input-6-88fee9c1fcf6>\u001b[0m in \u001b[0;36m<module>\u001b[0;34m\u001b[0m\n\u001b[1;32m      5\u001b[0m \u001b[0mannotation_file\u001b[0m \u001b[0;34m=\u001b[0m \u001b[0;34m'../image/anno_train.txt'\u001b[0m\u001b[0;34m\u001b[0m\u001b[0;34m\u001b[0m\u001b[0m\n\u001b[1;32m      6\u001b[0m \u001b[0muse_cuda\u001b[0m \u001b[0;34m=\u001b[0m \u001b[0;32mTrue\u001b[0m\u001b[0;34m\u001b[0m\u001b[0;34m\u001b[0m\u001b[0m\n\u001b[0;32m----> 7\u001b[0;31m \u001b[0mgen_onet_data\u001b[0m\u001b[0;34m(\u001b[0m\u001b[0mtraindata_store\u001b[0m\u001b[0;34m,\u001b[0m \u001b[0mannotation_file\u001b[0m\u001b[0;34m,\u001b[0m \u001b[0mpnet_model_file\u001b[0m\u001b[0;34m,\u001b[0m \u001b[0mrnet_model_file\u001b[0m\u001b[0;34m,\u001b[0m \u001b[0mprefix_path\u001b[0m\u001b[0;34m,\u001b[0m \u001b[0muse_cuda\u001b[0m\u001b[0;34m)\u001b[0m\u001b[0;34m\u001b[0m\u001b[0;34m\u001b[0m\u001b[0m\n\u001b[0m",
      "\u001b[0;32m<ipython-input-5-f1c73a895c73>\u001b[0m in \u001b[0;36mgen_onet_data\u001b[0;34m(data_dir, anno_file, pnet_model_file, rnet_model_file, prefix_path, use_cuda, vis)\u001b[0m\n\u001b[1;32m      9\u001b[0m     \u001b[0mpnet_detect\u001b[0m \u001b[0;34m=\u001b[0m \u001b[0mdetect\u001b[0m\u001b[0;34m.\u001b[0m\u001b[0mPNetDetector\u001b[0m\u001b[0;34m(\u001b[0m\u001b[0mpnet\u001b[0m\u001b[0;34m)\u001b[0m\u001b[0;34m\u001b[0m\u001b[0;34m\u001b[0m\u001b[0m\n\u001b[1;32m     10\u001b[0m \u001b[0;34m\u001b[0m\u001b[0m\n\u001b[0;32m---> 11\u001b[0;31m     \u001b[0mrnet\u001b[0m \u001b[0;34m=\u001b[0m \u001b[0mdetect\u001b[0m\u001b[0;34m.\u001b[0m\u001b[0mcreate_mtcnn_rnet\u001b[0m\u001b[0;34m(\u001b[0m\u001b[0mr_model_path\u001b[0m\u001b[0;34m=\u001b[0m\u001b[0mrnet_model_file\u001b[0m\u001b[0;34m)\u001b[0m\u001b[0;34m\u001b[0m\u001b[0;34m\u001b[0m\u001b[0m\n\u001b[0m\u001b[1;32m     12\u001b[0m \u001b[0;34m\u001b[0m\u001b[0m\n\u001b[1;32m     13\u001b[0m     \u001b[0mrnet_detect\u001b[0m \u001b[0;34m=\u001b[0m \u001b[0mdetect\u001b[0m\u001b[0;34m.\u001b[0m\u001b[0mRNetDetector\u001b[0m\u001b[0;34m(\u001b[0m\u001b[0mrnet\u001b[0m\u001b[0;34m)\u001b[0m\u001b[0;34m\u001b[0m\u001b[0;34m\u001b[0m\u001b[0m\n",
      "\u001b[0;32m~/code/PYTORCH_MTCNN/mtcnn/detect.py\u001b[0m in \u001b[0;36mcreate_mtcnn_rnet\u001b[0;34m(r_model_path, use_cuda)\u001b[0m\n\u001b[1;32m     43\u001b[0m             \u001b[0mrnet\u001b[0m\u001b[0;34m.\u001b[0m\u001b[0mcuda\u001b[0m\u001b[0;34m(\u001b[0m\u001b[0;34m)\u001b[0m\u001b[0;34m\u001b[0m\u001b[0;34m\u001b[0m\u001b[0m\n\u001b[1;32m     44\u001b[0m         \u001b[0;32melse\u001b[0m\u001b[0;34m:\u001b[0m\u001b[0;34m\u001b[0m\u001b[0;34m\u001b[0m\u001b[0m\n\u001b[0;32m---> 45\u001b[0;31m             \u001b[0mrnet\u001b[0m\u001b[0;34m.\u001b[0m\u001b[0mload_state_dict\u001b[0m\u001b[0;34m(\u001b[0m\u001b[0mtorch\u001b[0m\u001b[0;34m.\u001b[0m\u001b[0mload\u001b[0m\u001b[0;34m(\u001b[0m\u001b[0mr_model_path\u001b[0m\u001b[0;34m,\u001b[0m \u001b[0mmap_location\u001b[0m\u001b[0;34m=\u001b[0m\u001b[0;32mlambda\u001b[0m \u001b[0mstorage\u001b[0m\u001b[0;34m,\u001b[0m \u001b[0mloc\u001b[0m\u001b[0;34m:\u001b[0m \u001b[0mstorage\u001b[0m\u001b[0;34m)\u001b[0m\u001b[0;34m)\u001b[0m\u001b[0;34m\u001b[0m\u001b[0;34m\u001b[0m\u001b[0m\n\u001b[0m\u001b[1;32m     46\u001b[0m         \u001b[0mrnet\u001b[0m\u001b[0;34m.\u001b[0m\u001b[0meval\u001b[0m\u001b[0;34m(\u001b[0m\u001b[0;34m)\u001b[0m\u001b[0;34m\u001b[0m\u001b[0;34m\u001b[0m\u001b[0m\n\u001b[1;32m     47\u001b[0m     \u001b[0;32mreturn\u001b[0m \u001b[0mrnet\u001b[0m\u001b[0;34m\u001b[0m\u001b[0;34m\u001b[0m\u001b[0m\n",
      "\u001b[0;32m~/anaconda3/envs/seed/lib/python3.7/site-packages/torch/serialization.py\u001b[0m in \u001b[0;36mload\u001b[0;34m(f, map_location, pickle_module, **pickle_load_args)\u001b[0m\n\u001b[1;32m    582\u001b[0m         \u001b[0mpickle_load_args\u001b[0m\u001b[0;34m[\u001b[0m\u001b[0;34m'encoding'\u001b[0m\u001b[0;34m]\u001b[0m \u001b[0;34m=\u001b[0m \u001b[0;34m'utf-8'\u001b[0m\u001b[0;34m\u001b[0m\u001b[0;34m\u001b[0m\u001b[0m\n\u001b[1;32m    583\u001b[0m \u001b[0;34m\u001b[0m\u001b[0m\n\u001b[0;32m--> 584\u001b[0;31m     \u001b[0;32mwith\u001b[0m \u001b[0m_open_file_like\u001b[0m\u001b[0;34m(\u001b[0m\u001b[0mf\u001b[0m\u001b[0;34m,\u001b[0m \u001b[0;34m'rb'\u001b[0m\u001b[0;34m)\u001b[0m \u001b[0;32mas\u001b[0m \u001b[0mopened_file\u001b[0m\u001b[0;34m:\u001b[0m\u001b[0;34m\u001b[0m\u001b[0;34m\u001b[0m\u001b[0m\n\u001b[0m\u001b[1;32m    585\u001b[0m         \u001b[0;32mif\u001b[0m \u001b[0m_is_zipfile\u001b[0m\u001b[0;34m(\u001b[0m\u001b[0mopened_file\u001b[0m\u001b[0;34m)\u001b[0m\u001b[0;34m:\u001b[0m\u001b[0;34m\u001b[0m\u001b[0;34m\u001b[0m\u001b[0m\n\u001b[1;32m    586\u001b[0m             \u001b[0;32mwith\u001b[0m \u001b[0m_open_zipfile_reader\u001b[0m\u001b[0;34m(\u001b[0m\u001b[0mf\u001b[0m\u001b[0;34m)\u001b[0m \u001b[0;32mas\u001b[0m \u001b[0mopened_zipfile\u001b[0m\u001b[0;34m:\u001b[0m\u001b[0;34m\u001b[0m\u001b[0;34m\u001b[0m\u001b[0m\n",
      "\u001b[0;32m~/anaconda3/envs/seed/lib/python3.7/site-packages/torch/serialization.py\u001b[0m in \u001b[0;36m_open_file_like\u001b[0;34m(name_or_buffer, mode)\u001b[0m\n\u001b[1;32m    232\u001b[0m \u001b[0;32mdef\u001b[0m \u001b[0m_open_file_like\u001b[0m\u001b[0;34m(\u001b[0m\u001b[0mname_or_buffer\u001b[0m\u001b[0;34m,\u001b[0m \u001b[0mmode\u001b[0m\u001b[0;34m)\u001b[0m\u001b[0;34m:\u001b[0m\u001b[0;34m\u001b[0m\u001b[0;34m\u001b[0m\u001b[0m\n\u001b[1;32m    233\u001b[0m     \u001b[0;32mif\u001b[0m \u001b[0m_is_path\u001b[0m\u001b[0;34m(\u001b[0m\u001b[0mname_or_buffer\u001b[0m\u001b[0;34m)\u001b[0m\u001b[0;34m:\u001b[0m\u001b[0;34m\u001b[0m\u001b[0;34m\u001b[0m\u001b[0m\n\u001b[0;32m--> 234\u001b[0;31m         \u001b[0;32mreturn\u001b[0m \u001b[0m_open_file\u001b[0m\u001b[0;34m(\u001b[0m\u001b[0mname_or_buffer\u001b[0m\u001b[0;34m,\u001b[0m \u001b[0mmode\u001b[0m\u001b[0;34m)\u001b[0m\u001b[0;34m\u001b[0m\u001b[0;34m\u001b[0m\u001b[0m\n\u001b[0m\u001b[1;32m    235\u001b[0m     \u001b[0;32melse\u001b[0m\u001b[0;34m:\u001b[0m\u001b[0;34m\u001b[0m\u001b[0;34m\u001b[0m\u001b[0m\n\u001b[1;32m    236\u001b[0m         \u001b[0;32mif\u001b[0m \u001b[0;34m'w'\u001b[0m \u001b[0;32min\u001b[0m \u001b[0mmode\u001b[0m\u001b[0;34m:\u001b[0m\u001b[0;34m\u001b[0m\u001b[0;34m\u001b[0m\u001b[0m\n",
      "\u001b[0;32m~/anaconda3/envs/seed/lib/python3.7/site-packages/torch/serialization.py\u001b[0m in \u001b[0;36m__init__\u001b[0;34m(self, name, mode)\u001b[0m\n\u001b[1;32m    213\u001b[0m \u001b[0;32mclass\u001b[0m \u001b[0m_open_file\u001b[0m\u001b[0;34m(\u001b[0m\u001b[0m_opener\u001b[0m\u001b[0;34m)\u001b[0m\u001b[0;34m:\u001b[0m\u001b[0;34m\u001b[0m\u001b[0;34m\u001b[0m\u001b[0m\n\u001b[1;32m    214\u001b[0m     \u001b[0;32mdef\u001b[0m \u001b[0m__init__\u001b[0m\u001b[0;34m(\u001b[0m\u001b[0mself\u001b[0m\u001b[0;34m,\u001b[0m \u001b[0mname\u001b[0m\u001b[0;34m,\u001b[0m \u001b[0mmode\u001b[0m\u001b[0;34m)\u001b[0m\u001b[0;34m:\u001b[0m\u001b[0;34m\u001b[0m\u001b[0;34m\u001b[0m\u001b[0m\n\u001b[0;32m--> 215\u001b[0;31m         \u001b[0msuper\u001b[0m\u001b[0;34m(\u001b[0m\u001b[0m_open_file\u001b[0m\u001b[0;34m,\u001b[0m \u001b[0mself\u001b[0m\u001b[0;34m)\u001b[0m\u001b[0;34m.\u001b[0m\u001b[0m__init__\u001b[0m\u001b[0;34m(\u001b[0m\u001b[0mopen\u001b[0m\u001b[0;34m(\u001b[0m\u001b[0mname\u001b[0m\u001b[0;34m,\u001b[0m \u001b[0mmode\u001b[0m\u001b[0;34m)\u001b[0m\u001b[0;34m)\u001b[0m\u001b[0;34m\u001b[0m\u001b[0;34m\u001b[0m\u001b[0m\n\u001b[0m\u001b[1;32m    216\u001b[0m \u001b[0;34m\u001b[0m\u001b[0m\n\u001b[1;32m    217\u001b[0m     \u001b[0;32mdef\u001b[0m \u001b[0m__exit__\u001b[0m\u001b[0;34m(\u001b[0m\u001b[0mself\u001b[0m\u001b[0;34m,\u001b[0m \u001b[0;34m*\u001b[0m\u001b[0margs\u001b[0m\u001b[0;34m)\u001b[0m\u001b[0;34m:\u001b[0m\u001b[0;34m\u001b[0m\u001b[0;34m\u001b[0m\u001b[0m\n",
      "\u001b[0;31mFileNotFoundError\u001b[0m: [Errno 2] No such file or directory: '../model/Rnet/rnet_epoch_9.pt'"
     ]
    }
   ],
   "source": [
    "prefix_path = ''\n",
    "traindata_store = ''\n",
    "pnet_model_file = '../model/Pnet/pnet_epoch_9.pt'\n",
    "rnet_model_file = '../model/Rnet/rnet_epoch_9.pt'\n",
    "annotation_file = '../image/anno_train.txt'\n",
    "use_cuda = True\n",
    "gen_onet_data(traindata_store, annotation_file, pnet_model_file, rnet_model_file, prefix_path, use_cuda)"
   ]
  },
  {
   "cell_type": "markdown",
   "metadata": {},
   "source": [
    "#### Define function of collect image data"
   ]
  },
  {
   "cell_type": "code",
   "execution_count": null,
   "metadata": {},
   "outputs": [],
   "source": [
    "import os\n",
    "import numpy.random as npr\n",
    "import numpy as np\n",
    "\n",
    "def assemble_data(output_file, anno_file_list=[]):\n",
    "\n",
    "    #assemble the pos, neg, part annotations to one file\n",
    "    size = 12\n",
    "\n",
    "    if len(anno_file_list)==0:\n",
    "        return 0\n",
    "\n",
    "    if os.path.exists(output_file):\n",
    "        os.remove(output_file)\n",
    "\n",
    "    for anno_file in anno_file_list:\n",
    "        with open(anno_file, 'r') as f:\n",
    "            print(anno_file)\n",
    "            anno_lines = f.readlines()\n",
    "\n",
    "        base_num = 250000\n",
    "\n",
    "        if len(anno_lines) > base_num * 3:\n",
    "            idx_keep = npr.choice(len(anno_lines), size=base_num * 3, replace=True)\n",
    "        elif len(anno_lines) > 100000:\n",
    "            idx_keep = npr.choice(len(anno_lines), size=len(anno_lines), replace=True)\n",
    "        else:\n",
    "            idx_keep = np.arange(len(anno_lines))\n",
    "            np.random.shuffle(idx_keep)\n",
    "        chose_count = 0\n",
    "        with open(output_file, 'a+') as f:\n",
    "            for idx in idx_keep:\n",
    "                # write lables of pos, neg, part images\n",
    "                f.write(anno_lines[idx])\n",
    "                chose_count+=1\n",
    "\n",
    "    return chose_count"
   ]
  },
  {
   "cell_type": "markdown",
   "metadata": {},
   "source": [
    "#### collect train data"
   ]
  },
  {
   "cell_type": "code",
   "execution_count": null,
   "metadata": {},
   "outputs": [],
   "source": [
    "import os\n",
    "import sys\n",
    "sys.path.append(os.getcwd())\n",
    "\n",
    "onet_postive_file = '../image/48/pos_48.txt'\n",
    "onet_part_file = '../image/48/part_48.txt'\n",
    "onet_neg_file = '../image/48/neg_48.txt'\n",
    "onet_landmark_file = '../image/48/landmark_48.txt'\n",
    "imglist_filename = '../image/48/imglist_anno_48.txt'\n",
    "\n",
    "if __name__ == '__main__':\n",
    "\n",
    "    anno_list = []\n",
    "\n",
    "    anno_list.append(onet_postive_file)\n",
    "    anno_list.append(onet_part_file)\n",
    "    anno_list.append(onet_neg_file)\n",
    "    anno_list.append(onet_landmark_file)\n",
    "    \n",
    "    chose_count = assemble_data(imglist_filename ,anno_list)\n",
    "    print(\"ONet train annotation result file path:%s\" % imglist_filename)"
   ]
  }
 ],
 "metadata": {
  "kernelspec": {
   "display_name": "Python 3",
   "language": "python",
   "name": "python3"
  },
  "language_info": {
   "codemirror_mode": {
    "name": "ipython",
    "version": 3
   },
   "file_extension": ".py",
   "mimetype": "text/x-python",
   "name": "python",
   "nbconvert_exporter": "python",
   "pygments_lexer": "ipython3",
   "version": "3.7.2"
  }
 },
 "nbformat": 4,
 "nbformat_minor": 4
}
