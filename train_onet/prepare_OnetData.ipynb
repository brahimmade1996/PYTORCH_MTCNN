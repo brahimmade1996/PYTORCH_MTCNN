{
 "cells": [
  {
   "cell_type": "code",
   "execution_count": null,
   "metadata": {},
   "outputs": [],
   "source": []
  },
  {
   "cell_type": "code",
   "execution_count": null,
   "metadata": {},
   "outputs": [],
   "source": [
    "import argparse\n",
    "import cv2\n",
    "import numpy as np\n",
    "import os\n",
    "import sys\n",
    "sys.path.append('../')\n",
    "#from mtcnn.core.detect import MtcnnDetector,create_mtcnn_net\n",
    "from tool.imagedb import ImageDB\n",
    "from tool.imagedb import TestImageLoader\n",
    "from tool.utils import IoU\n",
    "import time\n",
    "from six.moves import cPickle\n",
    "from mtcnn import PNet\n",
    "from mtcnn import RNet\n",
    "from mtcnn import detect"
   ]
  },
  {
   "cell_type": "code",
   "execution_count": null,
   "metadata": {},
   "outputs": [],
   "source": []
  },
  {
   "cell_type": "code",
   "execution_count": null,
   "metadata": {},
   "outputs": [],
   "source": [
    "prefix_path = ''\n",
    "traindata_store = './data_set/train'\n",
    "pnet_model_file = '../model/Pnet/pnet_epoch_9.pt'\n",
    "rnet_model_file = '../model/Rnet/rnet_epoch_9.pt'\n",
    "annotation_file = '../image/anno_train.txt'\n",
    "use_cuda = True"
   ]
  }
 ],
 "metadata": {
  "kernelspec": {
   "display_name": "Python 3",
   "language": "python",
   "name": "python3"
  },
  "language_info": {
   "codemirror_mode": {
    "name": "ipython",
    "version": 3
   },
   "file_extension": ".py",
   "mimetype": "text/x-python",
   "name": "python",
   "nbconvert_exporter": "python",
   "pygments_lexer": "ipython3",
   "version": "3.7.2"
  }
 },
 "nbformat": 4,
 "nbformat_minor": 4
}
