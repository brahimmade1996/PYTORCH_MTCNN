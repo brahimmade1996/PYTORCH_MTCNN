{
 "cells": [
  {
   "cell_type": "code",
   "execution_count": 1,
   "metadata": {},
   "outputs": [],
   "source": [
    "  \n",
    "import torchvision.transforms as transforms\n",
    "import torch\n",
    "from torch.autograd.variable import Variable\n",
    "import numpy as np\n",
    "\n",
    "transform = transforms.ToTensor()\n",
    "\n",
    "def convert_image_to_tensor(image):\n",
    "    \"\"\"convert an image to pytorch tensor\n",
    "        Parameters:\n",
    "        ----------\n",
    "        image: numpy array , h * w * c\n",
    "        Returns:\n",
    "        -------\n",
    "        image_tensor: pytorch.FloatTensor, c * h * w\n",
    "        \"\"\"\n",
    "    # image = image.astype(np.float32)\n",
    "    return transform(image)\n",
    "    # return transform(image)\n",
    "\n",
    "\n",
    "def convert_chwTensor_to_hwcNumpy(tensor):\n",
    "    \"\"\"convert a group images pytorch tensor(count * c * h * w) to numpy array images(count * h * w * c)\n",
    "            Parameters:\n",
    "            ----------\n",
    "            tensor: numpy array , count * c * h * w\n",
    "            Returns:\n",
    "            -------\n",
    "            numpy array images: count * h * w * c\n",
    "            \"\"\"\n",
    "\n",
    "    if isinstance(tensor, Variable):\n",
    "        return np.transpose(tensor.data.numpy(), (0,2,3,1))\n",
    "    elif isinstance(tensor, torch.FloatTensor):\n",
    "        return np.transpose(tensor.numpy(), (0,2,3,1))\n",
    "    else:\n",
    "        raise Exception(\"covert b*c*h*w tensor to b*h*w*c numpy error.This tensor must have 4 dimension.\")"
   ]
  },
  {
   "cell_type": "code",
   "execution_count": null,
   "metadata": {},
   "outputs": [],
   "source": []
  }
 ],
 "metadata": {
  "kernelspec": {
   "display_name": "Python 3",
   "language": "python",
   "name": "python3"
  },
  "language_info": {
   "codemirror_mode": {
    "name": "ipython",
    "version": 3
   },
   "file_extension": ".py",
   "mimetype": "text/x-python",
   "name": "python",
   "nbconvert_exporter": "python",
   "pygments_lexer": "ipython3",
   "version": "3.7.7"
  }
 },
 "nbformat": 4,
 "nbformat_minor": 4
}
