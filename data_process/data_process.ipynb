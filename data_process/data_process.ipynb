{
 "cells": [
  {
   "cell_type": "markdown",
   "metadata": {},
   "source": [
    "#### Process data"
   ]
  },
  {
   "cell_type": "code",
   "execution_count": 1,
   "metadata": {},
   "outputs": [],
   "source": [
    "import os\n",
    "from scipy.io import loadmat\n",
    "\n",
    "class DATA:\n",
    "    def __init__(self, image_name,bboxes):\n",
    "        self.image_name = image_name\n",
    "        #self.facenumber = \n",
    "        self.bboxes = bboxes\n",
    "\n",
    "\n",
    "class WIDER(object):\n",
    "    def __init__(self, file_to_label, path_to_image=None):\n",
    "        self.file_to_label = file_to_label\n",
    "        self.path_to_image = path_to_image\n",
    "\n",
    "        self.f = loadmat(file_to_label)\n",
    "        self.event_list = self.f['event_list']\n",
    "        self.file_list = self.f['file_list']\n",
    "        self.face_bbx_list = self.f['face_bbx_list']\n",
    "\n",
    "    def next(self):\n",
    "        for event_idx, event in enumerate(self.event_list):\n",
    "            # fix error of \"can't not .. bytes and strings\"\n",
    "            e = str(event[0][0].encode('utf-8'))[2:-1]\n",
    "            for file, bbx in zip(self.file_list[event_idx][0],\n",
    "                                 self.face_bbx_list[event_idx][0]):\n",
    "                f = file[0][0].encode('utf-8')\n",
    "                #print(e, f)  # bytes, bytes\n",
    "                # fix error of \"can't not .. bytes and strings\"\n",
    "                f = str(f)[2:-1]\n",
    "                # path_of_image = os.path.join(self.path_to_image, str(e), str(f)) + \".jpg\"\n",
    "                path_of_image = self.path_to_image + '/' + e + '/' + f + \".jpg\"\n",
    "                # print(path_of_image)\n",
    "                bboxes = []\n",
    "                bbx0 = bbx[0]\n",
    "                for i in range(bbx0.shape[0]):\n",
    "                    xmin, ymin, xmax, ymax = bbx0[i]\n",
    "                    bboxes.append((int(xmin), int(ymin), int(xmax), int(ymax)))\n",
    "                yield DATA(path_of_image, bboxes)\n",
    "                    "
   ]
  },
  {
   "cell_type": "markdown",
   "metadata": {},
   "source": [
    "##### WIDER_FACE MAT FORMAT"
   ]
  },
  {
   "cell_type": "code",
   "execution_count": 2,
   "metadata": {},
   "outputs": [
    {
     "name": "stdout",
     "output_type": "stream",
     "text": [
      "['__header__', '__version__', '__globals__', 'blur_label_list', 'event_list', 'expression_label_list', 'face_bbx_list', 'file_list', 'illumination_label_list', 'invalid_label_list', 'occlusion_label_list', 'pose_label_list']\n"
     ]
    }
   ],
   "source": [
    "import scipy.io as scio\n",
    "\n",
    "path = '../image/wider_annotation/wider_face_train.mat'\n",
    "reftracker = scio.loadmat(path)\n",
    "\n",
    "print(list(reftracker.keys()))\n",
    "\n"
   ]
  },
  {
   "cell_type": "markdown",
   "metadata": {},
   "source": [
    "##### MAKE DATA"
   ]
  },
  {
   "cell_type": "code",
   "execution_count": 3,
   "metadata": {},
   "outputs": [
    {
     "name": "stdout",
     "output_type": "stream",
     "text": [
      "start transforming....\n",
      "end transforming\n",
      "spend time:0\n",
      "total line(images):12880\n",
      "total boxes(faces):159424\n"
     ]
    }
   ],
   "source": [
    "import os\n",
    "import sys\n",
    "sys.path.append(os.getcwd())\n",
    "import cv2\n",
    "import time\n",
    "\n",
    "\"\"\"\n",
    " modify .mat to .txt \n",
    "\"\"\"\n",
    "\n",
    "#wider face original images path\n",
    "path_to_image = '../image/wider_train/images'\n",
    "\n",
    "#matlab file path\n",
    "file_to_label = '../image/wider_annotation/wider_face_train.mat'\n",
    "\n",
    "#target file path\n",
    "target_file = '../image/anno_train.txt'\n",
    "\n",
    "wider = WIDER(file_to_label,path_to_image)\n",
    "\n",
    "line_count = 0\n",
    "box_count = 0\n",
    "\n",
    "print('start transforming....')\n",
    "t = time.time()\n",
    "\n",
    "with open(target_file, 'w+') as f:\n",
    "    # press ctrl-C to stop the process\n",
    "    for data in wider.next():\n",
    "        line = []\n",
    "        line.append(str(data.image_name))\n",
    "        line_count += 1\n",
    "        for i,box in enumerate(data.bboxes):\n",
    "            box_count += 1\n",
    "            for j,bvalue in enumerate(box):\n",
    "                line.append(str(bvalue))\n",
    "\n",
    "        line.append('\\n')\n",
    "\n",
    "        line_str = ' '.join(line)\n",
    "        f.write(line_str)\n",
    "\n",
    "st = time.time()-t\n",
    "print('end transforming')\n",
    "\n",
    "print('spend time:%d'%st)\n",
    "print('total line(images):%d'%line_count)\n",
    "print('total boxes(faces):%d'%box_count)"
   ]
  },
  {
   "cell_type": "code",
   "execution_count": null,
   "metadata": {},
   "outputs": [],
   "source": []
  }
 ],
 "metadata": {
  "kernelspec": {
   "display_name": "Python 3",
   "language": "python",
   "name": "python3"
  },
  "language_info": {
   "codemirror_mode": {
    "name": "ipython",
    "version": 3
   },
   "file_extension": ".py",
   "mimetype": "text/x-python",
   "name": "python",
   "nbconvert_exporter": "python",
   "pygments_lexer": "ipython3",
   "version": "3.7.7"
  }
 },
 "nbformat": 4,
 "nbformat_minor": 4
}
